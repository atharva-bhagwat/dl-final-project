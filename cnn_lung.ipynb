{
  "cells": [
    {
      "cell_type": "code",
      "execution_count": null,
      "metadata": {
        "colab": {
          "base_uri": "https://localhost:8080/"
        },
        "id": "RBGTNNy_Nl80",
        "outputId": "77885ded-cc7b-4652-f1fc-f294e066ef55"
      },
      "outputs": [
        {
          "name": "stdout",
          "output_type": "stream",
          "text": [
            "Mounted at /content/drive\n"
          ]
        }
      ],
      "source": [
        "from google.colab import drive\n",
        "drive.mount('/content/drive')"
      ]
    },
    {
      "cell_type": "code",
      "execution_count": null,
      "metadata": {
        "colab": {
          "base_uri": "https://localhost:8080/"
        },
        "id": "1dD9d1roNovZ",
        "outputId": "3bea7f16-08d5-47d0-a629-73cbd54d853a"
      },
      "outputs": [
        {
          "name": "stdout",
          "output_type": "stream",
          "text": [
            "/content/drive/MyDrive/DL/project\n"
          ]
        }
      ],
      "source": [
        "%cd /content/drive/MyDrive/DL/project"
      ]
    },
    {
      "cell_type": "code",
      "execution_count": null,
      "metadata": {
        "id": "13ra_0hzyJdS"
      },
      "outputs": [],
      "source": [
        "import os\n",
        "import torch\n",
        "import torchvision\n",
        "\n",
        "import numpy as np\n",
        "import torch.optim as optim\n",
        "import torch.nn as nn\n",
        "import torch.nn.functional as F\n",
        "import matplotlib.pyplot as plt\n",
        "\n",
        "from random import sample\n",
        "from torchsummary import summary\n",
        "from torch.utils.data import Dataset, Subset\n",
        "from torch.utils.data import random_split\n",
        "from torchvision import transforms\n",
        "from torchvision.io import read_image\n",
        "from torchvision.utils import make_grid \n",
        "from torchvision.datasets import ImageFolder\n",
        "from sklearn.metrics import f1_score"
      ]
    },
    {
      "cell_type": "code",
      "execution_count": null,
      "metadata": {
        "id": "tjdWi-dTnE0h"
      },
      "outputs": [],
      "source": [
        "torch.cuda.manual_seed(1234)"
      ]
    },
    {
      "cell_type": "code",
      "execution_count": null,
      "metadata": {
        "id": "cdQjvG69ERO5"
      },
      "outputs": [],
      "source": [
        "class CustomDataset(Dataset):\n",
        "    def __init__(self, dataset, transform=None):\n",
        "        self.dataset = dataset\n",
        "        self.transform = transform\n",
        "\n",
        "    def __getitem__(self, index):\n",
        "        if self.transform:\n",
        "            x = self.transform(dataset[index][0])\n",
        "        else:\n",
        "            x = self.dataset[index][0]\n",
        "        y = self.dataset[index][1]\n",
        "        return x, y\n",
        "    \n",
        "    def __len__(self):\n",
        "        return len(dataset)"
      ]
    },
    {
      "cell_type": "code",
      "execution_count": null,
      "metadata": {
        "id": "BoeI1BVEzrMo"
      },
      "outputs": [],
      "source": [
        "lung_dataset = 'lung_colon_image_set/lung_image_sets/'"
      ]
    },
    {
      "cell_type": "code",
      "execution_count": null,
      "metadata": {
        "id": "dxyoHHUlEzDZ"
      },
      "outputs": [],
      "source": [
        "transforms_train = transforms.Compose([\n",
        "        transforms.RandomHorizontalFlip(),\n",
        "        transforms.RandomRotation(20),\n",
        "        transforms.ToTensor(),\n",
        "        transforms.Resize((64,64)),\n",
        "        transforms.Normalize(mean=[0.485, 0.456, 0.406], std=[0.229, 0.224, 0.225])\n",
        "      ])\n",
        "\n",
        "transforms_test = transforms.Compose([\n",
        "        transforms.ToTensor(),\n",
        "        transforms.Resize((64,64)),\n",
        "        transforms.Normalize(mean=[0.485, 0.456, 0.406], std=[0.229, 0.224, 0.225])\n",
        "      ])"
      ]
    },
    {
      "cell_type": "code",
      "execution_count": null,
      "metadata": {
        "id": "UNvC_GFm_VFu"
      },
      "outputs": [],
      "source": [
        "dataset = ImageFolder(lung_dataset)"
      ]
    },
    {
      "cell_type": "code",
      "execution_count": null,
      "metadata": {
        "id": "1QOEjnTKEvfA"
      },
      "outputs": [],
      "source": [
        "train_set = CustomDataset(dataset,transforms_train)\n",
        "val_set = CustomDataset(dataset,transforms_test)\n",
        "test_set = CustomDataset(dataset,transforms_test)\n",
        "\n",
        "# Create the index splits for training, validation and test\n",
        "train_size = 0.8\n",
        "num_train = len(dataset)\n",
        "indices = list(range(num_train))\n",
        "split = int(np.floor(train_size * num_train))\n",
        "split2 = int(np.floor((train_size+(1-train_size)/2) * num_train))\n",
        "np.random.shuffle(indices)\n",
        "train_idx, valid_idx, test_idx = indices[:split], indices[split:split2], indices[split2:]\n",
        "\n",
        "train_data = Subset(train_set, indices=train_idx)\n",
        "val_data = Subset(val_set, indices=valid_idx)\n",
        "test_data = Subset(test_set, indices=test_idx)"
      ]
    },
    {
      "cell_type": "code",
      "execution_count": null,
      "metadata": {
        "id": "XwmPcpRqAh2i"
      },
      "outputs": [],
      "source": [
        "batch_size = 64"
      ]
    },
    {
      "cell_type": "code",
      "execution_count": null,
      "metadata": {
        "id": "P-YDcKO9_VA2"
      },
      "outputs": [],
      "source": [
        "train_loader = torch.utils.data.DataLoader(train_data, batch_size=batch_size, shuffle=True)\n",
        "val_loader = torch.utils.data.DataLoader(val_data, batch_size=batch_size)\n",
        "test_loader = torch.utils.data.DataLoader(test_data, batch_size=batch_size)"
      ]
    },
    {
      "cell_type": "code",
      "execution_count": null,
      "metadata": {
        "id": "QJB4rJkjtr19"
      },
      "outputs": [],
      "source": [
        "device = torch.device('cuda' if torch.cuda.is_available() else 'cpu')"
      ]
    },
    {
      "cell_type": "code",
      "execution_count": null,
      "metadata": {
        "id": "IQdxJMPVqRNO"
      },
      "outputs": [],
      "source": [
        "class Cnn(nn.Module):\n",
        "    def __init__(self, output_dim):\n",
        "        super().__init__()\n",
        "        self.conv_block = nn.Sequential(\n",
        "          nn.Conv2d(3, 32, 3),\n",
        "          nn.BatchNorm2d(32),\n",
        "          nn.Dropout2d(0.2,inplace=True),\n",
        "          nn.ReLU(inplace=True),\n",
        "\n",
        "          nn.Conv2d(32, 64, 3, 2, padding=1),\n",
        "          nn.BatchNorm2d(64),\n",
        "          nn.Dropout2d(0.2,inplace=True),\n",
        "          nn.ReLU(inplace=True),\n",
        "\n",
        "          nn.MaxPool2d(2, 2),\n",
        "\n",
        "          nn.Conv2d(64,128, 3, 2, padding=1),\n",
        "          nn.BatchNorm2d(128),\n",
        "          nn.Dropout2d(0.2,inplace=True),\n",
        "          nn.ReLU(inplace=True),\n",
        "\n",
        "          nn.MaxPool2d(2, 2),\n",
        "\n",
        "          nn.Conv2d(128,256, 3, 2, padding=1),\n",
        "          nn.BatchNorm2d(256),\n",
        "          nn.Dropout2d(0.2,inplace=True),\n",
        "          nn.ReLU(inplace=True),\n",
        "\n",
        "          nn.MaxPool2d(2, 2),\n",
        "\n",
        "          nn.Conv2d(256,512, 3, padding='same'),\n",
        "          nn.ReLU(inplace=True),\n",
        "        )\n",
        "        self.dense_block = nn.Sequential(\n",
        "            nn.Flatten(),\n",
        "            nn.Linear(512, 512),\n",
        "            nn.ReLU(True),\n",
        "            nn.Linear(512, output_dim)\n",
        "        )\n",
        "\n",
        "    def forward(self, x):\n",
        "        x = self.conv_block(x)\n",
        "        x = self.dense_block(x)\n",
        "        return x"
      ]
    },
    {
      "cell_type": "code",
      "execution_count": null,
      "metadata": {
        "id": "8MNxfc3nDN6C"
      },
      "outputs": [],
      "source": [
        "# create model object, initialize loss and optimizer\n",
        "net = Cnn(3)\n",
        "net.to(device)\n",
        "criterion = nn.CrossEntropyLoss()\n",
        "optimizer = optim.Adam(net.parameters(), lr=0.0001)"
      ]
    },
    {
      "cell_type": "code",
      "execution_count": null,
      "metadata": {
        "colab": {
          "base_uri": "https://localhost:8080/"
        },
        "id": "fvcY7_ZXDSxw",
        "outputId": "126a8dee-0b73-4098-b476-328480fd71ef"
      },
      "outputs": [
        {
          "name": "stdout",
          "output_type": "stream",
          "text": [
            "----------------------------------------------------------------\n",
            "        Layer (type)               Output Shape         Param #\n",
            "================================================================\n",
            "            Conv2d-1           [-1, 32, 62, 62]             896\n",
            "       BatchNorm2d-2           [-1, 32, 62, 62]              64\n",
            "         Dropout2d-3           [-1, 32, 62, 62]               0\n",
            "              ReLU-4           [-1, 32, 62, 62]               0\n",
            "            Conv2d-5           [-1, 64, 31, 31]          18,496\n",
            "       BatchNorm2d-6           [-1, 64, 31, 31]             128\n",
            "         Dropout2d-7           [-1, 64, 31, 31]               0\n",
            "              ReLU-8           [-1, 64, 31, 31]               0\n",
            "         MaxPool2d-9           [-1, 64, 15, 15]               0\n",
            "           Conv2d-10            [-1, 128, 8, 8]          73,856\n",
            "      BatchNorm2d-11            [-1, 128, 8, 8]             256\n",
            "        Dropout2d-12            [-1, 128, 8, 8]               0\n",
            "             ReLU-13            [-1, 128, 8, 8]               0\n",
            "        MaxPool2d-14            [-1, 128, 4, 4]               0\n",
            "           Conv2d-15            [-1, 256, 2, 2]         295,168\n",
            "      BatchNorm2d-16            [-1, 256, 2, 2]             512\n",
            "        Dropout2d-17            [-1, 256, 2, 2]               0\n",
            "             ReLU-18            [-1, 256, 2, 2]               0\n",
            "        MaxPool2d-19            [-1, 256, 1, 1]               0\n",
            "           Conv2d-20            [-1, 512, 1, 1]       1,180,160\n",
            "             ReLU-21            [-1, 512, 1, 1]               0\n",
            "          Flatten-22                  [-1, 512]               0\n",
            "           Linear-23                  [-1, 512]         262,656\n",
            "             ReLU-24                  [-1, 512]               0\n",
            "           Linear-25                    [-1, 3]           1,539\n",
            "================================================================\n",
            "Total params: 1,833,731\n",
            "Trainable params: 1,833,731\n",
            "Non-trainable params: 0\n",
            "----------------------------------------------------------------\n",
            "Input size (MB): 0.05\n",
            "Forward/backward pass size (MB): 6.06\n",
            "Params size (MB): 7.00\n",
            "Estimated Total Size (MB): 13.10\n",
            "----------------------------------------------------------------\n"
          ]
        }
      ],
      "source": [
        "# model summary to see number of trainable parameters\n",
        "summary(net, (3,64,64))"
      ]
    },
    {
      "cell_type": "code",
      "execution_count": null,
      "metadata": {
        "id": "AolhTxSzlAkH"
      },
      "outputs": [],
      "source": [
        "def train():\n",
        "    \"\"\"Training loop\n",
        "    \"\"\"\n",
        "    train_acc = []\n",
        "    train_loss = 0.0\n",
        "    correct = 0\n",
        "    total = 0\n",
        "\n",
        "    net.train()\n",
        "    for i, (images, labels) in enumerate(train_loader):\n",
        "        images, labels = images.to(device), labels.to(device)\n",
        "\n",
        "        optimizer.zero_grad()\n",
        "        outputs = net(images)\n",
        "        fit = criterion(outputs, labels)\n",
        "        fit.backward()\n",
        "        nn.utils.clip_grad_value_(net.parameters(), clip_value=0.1)\n",
        "        optimizer.step()\n",
        "        train_loss += fit.item()\n",
        "\n",
        "        # accuracy\n",
        "        _, pred = outputs.max(1)\n",
        "        total += labels.size(0)\n",
        "        correct += (pred == labels).sum()\n",
        "\n",
        "        torch.cuda.empty_cache()\n",
        "\n",
        "    loss = train_loss / len(train_loader)\n",
        "    acc = float(correct)/float(total)\n",
        "\n",
        "    print(f'Training loss: {loss}, Training acc: {acc}')\n",
        "\n",
        "    return loss\n",
        "\n",
        "def validate():\n",
        "    \"\"\"Validation loop\n",
        "    \"\"\"\n",
        "    global best_loss\n",
        "    val_acc = []\n",
        "    val_loss = 0.0\n",
        "    correct = 0\n",
        "    total = 0\n",
        "\n",
        "    net.eval()\n",
        "    torch.cuda.empty_cache()\n",
        "    for i, (images, labels) in enumerate(val_loader):\n",
        "        images, labels = images.to(device), labels.to(device)\n",
        "\n",
        "        outputs = net(images)\n",
        "        fit = criterion(outputs, labels)\n",
        "        val_loss += fit.item()\n",
        "\n",
        "        # accuracy\n",
        "        _, pred = outputs.max(1)\n",
        "        total += labels.size(0)\n",
        "        correct += (pred == labels).sum()\n",
        "\n",
        "        torch.cuda.empty_cache()\n",
        "\n",
        "    loss = val_loss / len(val_loader)\n",
        "    acc = float(correct)/float(total)\n",
        "\n",
        "    print(f'Validation loss: {loss}, Validation acc: {acc}')\n",
        "\n",
        "    return loss"
      ]
    },
    {
      "cell_type": "code",
      "execution_count": null,
      "metadata": {
        "colab": {
          "base_uri": "https://localhost:8080/"
        },
        "id": "QQr1_nX0DSvb",
        "outputId": "41fde6a8-8c50-4c69-964d-d77ffb84ed15"
      },
      "outputs": [
        {
          "name": "stdout",
          "output_type": "stream",
          "text": [
            "Epoch 0:\n",
            "Training loss: 0.4459428205452067, Training acc: 0.8104166666666667\n",
            "Validation loss: 0.31734177097678185, Validation acc: 0.8613333333333333\n",
            "**********\n",
            "Epoch 1:\n",
            "Training loss: 0.2740821830056449, Training acc: 0.8865\n",
            "Validation loss: 0.24660449847579002, Validation acc: 0.8913333333333333\n",
            "**********\n",
            "Epoch 2:\n",
            "Training loss: 0.24221897882191426, Training acc: 0.89925\n",
            "Validation loss: 0.3489824803546071, Validation acc: 0.8553333333333333\n",
            "**********\n",
            "Epoch 3:\n",
            "Training loss: 0.23060242114390464, Training acc: 0.9063333333333333\n",
            "Validation loss: 0.26854894310235977, Validation acc: 0.8933333333333333\n",
            "**********\n",
            "Epoch 4:\n",
            "Training loss: 0.21069243562189824, Training acc: 0.91475\n",
            "Validation loss: 0.22357746430983147, Validation acc: 0.9026666666666666\n",
            "**********\n",
            "Epoch 5:\n",
            "Training loss: 0.20921743558125294, Training acc: 0.9155833333333333\n",
            "Validation loss: 0.28062660060822964, Validation acc: 0.8846666666666667\n",
            "**********\n",
            "Epoch 6:\n",
            "Training loss: 0.18932585491541218, Training acc: 0.9241666666666667\n",
            "Validation loss: 0.24963844877978167, Validation acc: 0.8933333333333333\n",
            "**********\n",
            "Epoch 7:\n",
            "Training loss: 0.18383717223843363, Training acc: 0.9273333333333333\n",
            "Validation loss: 0.26677952986210585, Validation acc: 0.8946666666666667\n",
            "**********\n",
            "Epoch 8:\n",
            "Training loss: 0.18289351166087262, Training acc: 0.9270833333333334\n",
            "Validation loss: 0.2342435276756684, Validation acc: 0.9033333333333333\n",
            "**********\n",
            "Epoch 9:\n",
            "Training loss: 0.1762663706780431, Training acc: 0.9308333333333333\n",
            "Validation loss: 0.24680655946334204, Validation acc: 0.896\n",
            "**********\n",
            "Epoch 10:\n",
            "Training loss: 0.17172356966407376, Training acc: 0.9314166666666667\n",
            "Validation loss: 0.1965204318985343, Validation acc: 0.9153333333333333\n",
            "**********\n",
            "Epoch 11:\n",
            "Training loss: 0.16590382325205397, Training acc: 0.93375\n",
            "Validation loss: 0.19383026861275235, Validation acc: 0.9173333333333333\n",
            "**********\n",
            "Epoch 12:\n",
            "Training loss: 0.15985023101514323, Training acc: 0.9339166666666666\n",
            "Validation loss: 0.25046212660769623, Validation acc: 0.888\n",
            "**********\n",
            "Epoch 13:\n",
            "Training loss: 0.15696199906078426, Training acc: 0.93875\n",
            "Validation loss: 0.2018789566742877, Validation acc: 0.9213333333333333\n",
            "**********\n",
            "Epoch 14:\n",
            "Training loss: 0.15721250168899906, Training acc: 0.9388333333333333\n",
            "Validation loss: 0.24616425950080156, Validation acc: 0.8993333333333333\n",
            "**********\n",
            "Epoch 15:\n",
            "Training loss: 0.15477235421062785, Training acc: 0.9365\n",
            "Validation loss: 0.19555217834810415, Validation acc: 0.9153333333333333\n",
            "**********\n",
            "Epoch 16:\n",
            "Training loss: 0.14958401230421473, Training acc: 0.9410833333333334\n",
            "Validation loss: 0.21198728897919258, Validation acc: 0.9166666666666666\n",
            "**********\n",
            "Epoch 17:\n",
            "Training loss: 0.15239291033767005, Training acc: 0.941\n",
            "Validation loss: 0.2084420807659626, Validation acc: 0.9133333333333333\n",
            "**********\n",
            "Epoch 18:\n",
            "Training loss: 0.14024777003028926, Training acc: 0.9435833333333333\n",
            "Validation loss: 0.17844069780160984, Validation acc: 0.9286666666666666\n",
            "**********\n",
            "Epoch 19:\n",
            "Training loss: 0.14217121802032628, Training acc: 0.9414166666666667\n",
            "Validation loss: 0.1773223572721084, Validation acc: 0.922\n",
            "**********\n",
            "Epoch 20:\n",
            "Training loss: 0.13942113770370154, Training acc: 0.9460833333333334\n",
            "Validation loss: 0.19225193839520216, Validation acc: 0.9173333333333333\n",
            "**********\n",
            "Epoch 21:\n",
            "Training loss: 0.138072909985451, Training acc: 0.9420833333333334\n",
            "Validation loss: 0.21068506237740317, Validation acc: 0.912\n",
            "**********\n",
            "Epoch 22:\n",
            "Training loss: 0.1339521746923949, Training acc: 0.9485833333333333\n",
            "Validation loss: 0.18304386719440421, Validation acc: 0.9166666666666666\n",
            "**********\n",
            "Epoch 23:\n",
            "Training loss: 0.1309345828646675, Training acc: 0.949\n",
            "Validation loss: 0.17646761952588955, Validation acc: 0.9266666666666666\n",
            "**********\n",
            "Epoch 24:\n",
            "Training loss: 0.13082454228734083, Training acc: 0.9475\n",
            "Validation loss: 0.1589233580355843, Validation acc: 0.934\n",
            "**********\n"
          ]
        }
      ],
      "source": [
        "# driver cell to run train and validation methods\n",
        "epochs = 25\n",
        "train_loss_history = []\n",
        "val_loss_history = []\n",
        "\n",
        "for epoch in range(epochs):\n",
        "    print(f'Epoch {epoch}:')\n",
        "    train_loss_history.append(train())\n",
        "    val_loss_history.append(validate())\n",
        "    # scheduler.step()\n",
        "    print(f'*'*10)  "
      ]
    },
    {
      "cell_type": "code",
      "execution_count": null,
      "metadata": {
        "colab": {
          "base_uri": "https://localhost:8080/",
          "height": 279
        },
        "id": "iXKFIBT4DWCV",
        "outputId": "d775f69b-fe68-4ca6-ea65-37e2cbe6db6a"
      },
      "outputs": [
        {
          "data": {
            "image/png": "[encoded data removed]",
            "text/plain": [
              "<Figure size 432x288 with 1 Axes>"
            ]
          },
          "metadata": {
            "needs_background": "light"
          },
          "output_type": "display_data"
        }
      ],
      "source": [
        "# train-val loss curves\n",
        "plt.plot(range(epochs), train_loss_history, '-', label=\"train\")\n",
        "plt.plot(range(epochs), val_loss_history, '-', label=\"validation\")\n",
        "plt.xlabel('Epoch')\n",
        "plt.ylabel('Loss')\n",
        "plt.grid(True)\n",
        "plt.legend()\n",
        "plt.savefig(\"cnn_lung.jpg\")"
      ]
    },
    {
      "cell_type": "code",
      "execution_count": null,
      "metadata": {
        "id": "-iKXeZ4UDWAQ"
      },
      "outputs": [],
      "source": [
        "# test accuracy and f1 score\n",
        "correct = 0\n",
        "samples = 0\n",
        "f1 = []\n",
        "with torch.no_grad():\n",
        "    for i, (images, labels) in enumerate(test_loader):\n",
        "        images, labels = images.to(device), labels.to(device)\n",
        "\n",
        "        scores = net(images)\n",
        "        _, pred = scores.max(1)\n",
        "        f1.append(f1_score(labels.cpu(), pred.cpu(), average='macro'))\n",
        "        correct += (pred == labels).sum()\n",
        "        samples += pred.size(0)\n",
        "\n",
        "        acc = float(correct)/float(samples)\n",
        "    print(f'Test accuracy: {acc}')\n",
        "    print(f'Test F1 score: {sum(f1)/len(f1)}')"
      ]
    },
    {
      "cell_type": "code",
      "execution_count": null,
      "metadata": {
        "id": "D4KAkZOrT7_p"
      },
      "outputs": [],
      "source": []
    }
  ],
  "metadata": {
    "accelerator": "GPU",
    "colab": {
      "provenance": []
    },
    "gpuClass": "standard",
    "kernelspec": {
      "display_name": "Python 3",
      "name": "python3"
    },
    "language_info": {
      "name": "python"
    }
  },
  "nbformat": 4,
  "nbformat_minor": 0
}
