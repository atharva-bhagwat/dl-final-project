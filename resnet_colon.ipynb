{
  "cells": [
    {
      "cell_type": "code",
      "execution_count": null,
      "metadata": {
        "colab": {
          "base_uri": "https://localhost:8080/"
        },
        "id": "RO8TXEaJtT1v",
        "outputId": "acdf1ef8-726d-42a2-dbcb-e2448133fe1f"
      },
      "outputs": [
        {
          "name": "stdout",
          "output_type": "stream",
          "text": [
            "Drive already mounted at /content/drive; to attempt to forcibly remount, call drive.mount(\"/content/drive\", force_remount=True).\n"
          ]
        }
      ],
      "source": [
        "from google.colab import drive\n",
        "drive.mount('/content/drive')"
      ]
    },
    {
      "cell_type": "code",
      "execution_count": null,
      "metadata": {
        "colab": {
          "base_uri": "https://localhost:8080/"
        },
        "id": "vcKRtBtQwtRH",
        "outputId": "ad9bddef-a02a-4c2b-c3e6-7e8fd8120f2c"
      },
      "outputs": [
        {
          "name": "stdout",
          "output_type": "stream",
          "text": [
            "/content/drive/.shortcut-targets-by-id/14ZmKa8dpttySIWLAiJVeEcsIXpQejE6C/project\n"
          ]
        }
      ],
      "source": [
        "%cd /content/drive/MyDrive/DL/project"
      ]
    },
    {
      "cell_type": "code",
      "execution_count": null,
      "metadata": {
        "id": "13ra_0hzyJdS"
      },
      "outputs": [],
      "source": [
        "import os\n",
        "import torch\n",
        "import torchvision\n",
        "import gc\n",
        "\n",
        "import numpy as np\n",
        "import torch.optim as optim\n",
        "import torch.nn as nn\n",
        "import torch.nn.functional as F\n",
        "import matplotlib.pyplot as plt\n",
        "\n",
        "from random import sample\n",
        "from torchsummary import summary\n",
        "from torch.utils.data import Dataset, Subset\n",
        "from torch.utils.data import random_split\n",
        "from torchvision import transforms\n",
        "from torchvision.io import read_image\n",
        "from torchvision.utils import make_grid\n",
        "from torchvision.datasets import ImageFolder\n",
        "from torchvision.models import resnet18, ResNet18_Weights\n",
        "from sklearn.metrics import f1_score"
      ]
    },
    {
      "cell_type": "code",
      "execution_count": null,
      "metadata": {
        "id": "cdQjvG69ERO5"
      },
      "outputs": [],
      "source": [
        "class CustomDataset(Dataset):\n",
        "    def __init__(self, dataset, transform=None):\n",
        "        self.dataset = dataset\n",
        "        self.transform = transform\n",
        "\n",
        "    def __getitem__(self, index):\n",
        "        if self.transform:\n",
        "            x = self.transform(dataset[index][0])\n",
        "        else:\n",
        "            x = self.dataset[index][0]\n",
        "        y = self.dataset[index][1]\n",
        "        return x, y\n",
        "    \n",
        "    def __len__(self):\n",
        "        return len(dataset)"
      ]
    },
    {
      "cell_type": "code",
      "execution_count": null,
      "metadata": {
        "id": "BoeI1BVEzrMo"
      },
      "outputs": [],
      "source": [
        "colon_dataset = 'lung_colon_image_set/colon_image_sets/'"
      ]
    },
    {
      "cell_type": "code",
      "execution_count": null,
      "metadata": {
        "id": "dxyoHHUlEzDZ"
      },
      "outputs": [],
      "source": [
        "transforms_train = transforms.Compose([\n",
        "        transforms.RandomHorizontalFlip(),\n",
        "        transforms.RandomRotation(20),\n",
        "        transforms.ToTensor(),\n",
        "        transforms.Resize((64,64)),\n",
        "        transforms.Normalize(mean=[0.485, 0.456, 0.406], std=[0.229, 0.224, 0.225])\n",
        "      ])\n",
        "\n",
        "transforms_test = transforms.Compose([\n",
        "        transforms.ToTensor(),\n",
        "        transforms.Resize((64,64)),\n",
        "        transforms.Normalize(mean=[0.485, 0.456, 0.406], std=[0.229, 0.224, 0.225])\n",
        "      ])"
      ]
    },
    {
      "cell_type": "code",
      "execution_count": null,
      "metadata": {
        "id": "UNvC_GFm_VFu"
      },
      "outputs": [],
      "source": [
        "dataset = ImageFolder(colon_dataset)"
      ]
    },
    {
      "cell_type": "code",
      "execution_count": null,
      "metadata": {
        "id": "1QOEjnTKEvfA"
      },
      "outputs": [],
      "source": [
        "train_set = CustomDataset(dataset,transforms_train)\n",
        "val_set = CustomDataset(dataset,transforms_test)\n",
        "test_set = CustomDataset(dataset,transforms_test)\n",
        "\n",
        "# Create the index splits for training, validation and test\n",
        "train_size = 0.8\n",
        "num_train = len(dataset)\n",
        "indices = list(range(num_train))\n",
        "split = int(np.floor(train_size * num_train))\n",
        "split2 = int(np.floor((train_size+(1-train_size)/2) * num_train))\n",
        "np.random.shuffle(indices)\n",
        "train_idx, valid_idx, test_idx = indices[:split], indices[split:split2], indices[split2:]\n",
        "\n",
        "train_data = Subset(train_set, indices=train_idx)\n",
        "val_data = Subset(val_set, indices=valid_idx)\n",
        "test_data = Subset(test_set, indices=test_idx)"
      ]
    },
    {
      "cell_type": "code",
      "execution_count": null,
      "metadata": {
        "id": "XwmPcpRqAh2i"
      },
      "outputs": [],
      "source": [
        "batch_size = 64"
      ]
    },
    {
      "cell_type": "code",
      "execution_count": null,
      "metadata": {
        "id": "P-YDcKO9_VA2"
      },
      "outputs": [],
      "source": [
        "train_loader = torch.utils.data.DataLoader(train_data, batch_size=batch_size, shuffle=True)\n",
        "val_loader = torch.utils.data.DataLoader(val_data, batch_size=batch_size)\n",
        "test_loader = torch.utils.data.DataLoader(test_data, batch_size=batch_size)"
      ]
    },
    {
      "cell_type": "code",
      "execution_count": null,
      "metadata": {
        "id": "QJB4rJkjtr19"
      },
      "outputs": [],
      "source": [
        "device = torch.device('cuda' if torch.cuda.is_available() else 'cpu')"
      ]
    },
    {
      "cell_type": "code",
      "execution_count": null,
      "metadata": {
        "id": "PFUoc7KqTaZI"
      },
      "outputs": [],
      "source": [
        "class BasicBlock(nn.Module):\n",
        "    expansion = 1\n",
        "\n",
        "    def __init__(self, in_planes, planes, stride=1):\n",
        "        super(BasicBlock, self).__init__()\n",
        "        self.conv1 = nn.Conv2d(\n",
        "            in_planes, planes, kernel_size=3, stride=stride, padding=1, bias=False)\n",
        "        self.bn1 = nn.BatchNorm2d(planes)\n",
        "        self.conv2 = nn.Conv2d(planes, planes, kernel_size=3,\n",
        "                               stride=1, padding=1, bias=False)\n",
        "        self.bn2 = nn.BatchNorm2d(planes)\n",
        "\n",
        "        self.shortcut = nn.Sequential()\n",
        "        if stride != 1 or in_planes != self.expansion*planes:\n",
        "            self.shortcut = nn.Sequential(\n",
        "                nn.Conv2d(in_planes, self.expansion*planes,\n",
        "                          kernel_size=1, stride=stride, bias=False),\n",
        "                nn.BatchNorm2d(self.expansion*planes)\n",
        "            )\n",
        "\n",
        "    def forward(self, x):\n",
        "        out = F.relu(self.bn1(self.conv1(x)))\n",
        "        out = self.bn2(self.conv2(out))\n",
        "        out += self.shortcut(x)\n",
        "        out = F.relu(out)\n",
        "        return out\n",
        "\n",
        "class ResNet(nn.Module):\n",
        "    def __init__(self, block, num_blocks, num_classes=10):\n",
        "        super(ResNet, self).__init__()\n",
        "        self.in_planes = 64\n",
        "\n",
        "        self.conv1 = nn.Conv2d(3, 64, kernel_size=3,\n",
        "                               stride=1, padding=1, bias=False)\n",
        "        self.bn1 = nn.BatchNorm2d(64)\n",
        "        self.layer1 = self._make_layer(block, 64, num_blocks[0], stride=1)\n",
        "        self.layer2 = self._make_layer(block, 128, num_blocks[1], stride=2)\n",
        "        self.layer3 = self._make_layer(block, 256, num_blocks[2], stride=2)\n",
        "        # self.layer4 = self._make_layer(block, 512, num_blocks[3], stride=2)\n",
        "        self.linear = nn.Linear(256*4*block.expansion, num_classes)\n",
        "\n",
        "    def _make_layer(self, block, planes, num_blocks, stride):\n",
        "        strides = [stride] + [1]*(num_blocks-1)\n",
        "        layers = []\n",
        "        for stride in strides:\n",
        "            layers.append(block(self.in_planes, planes, stride))\n",
        "            self.in_planes = planes * block.expansion\n",
        "        return nn.Sequential(*layers)\n",
        "\n",
        "    def forward(self, x):\n",
        "        out = F.relu(self.bn1(self.conv1(x)))\n",
        "        out = self.layer1(out)\n",
        "        out = self.layer2(out)\n",
        "        out = self.layer3(out)\n",
        "        # out = self.layer4(out)\n",
        "        out = F.avg_pool2d(out, 8)\n",
        "        out = out.view(out.size(0), -1)\n",
        "        out = self.linear(out)\n",
        "        return out\n",
        "\n",
        "def get_model():\n",
        "    return ResNet(BasicBlock, [4, 4, 3], 2)"
      ]
    },
    {
      "cell_type": "code",
      "execution_count": null,
      "metadata": {
        "id": "8MNxfc3nDN6C"
      },
      "outputs": [],
      "source": [
        "# create model object, initialize loss and optimizer\n",
        "net = get_model().to(device)\n",
        "criterion = nn.CrossEntropyLoss()\n",
        "optimizer = optim.Adam(net.parameters(), lr=0.001)"
      ]
    },
    {
      "cell_type": "code",
      "execution_count": null,
      "metadata": {
        "colab": {
          "base_uri": "https://localhost:8080/"
        },
        "id": "fvcY7_ZXDSxw",
        "outputId": "040714d1-b73d-4888-e3ae-7b5f84b75b87"
      },
      "outputs": [
        {
          "name": "stdout",
          "output_type": "stream",
          "text": [
            "----------------------------------------------------------------\n",
            "        Layer (type)               Output Shape         Param #\n",
            "================================================================\n",
            "            Conv2d-1           [-1, 64, 64, 64]           1,728\n",
            "       BatchNorm2d-2           [-1, 64, 64, 64]             128\n",
            "            Conv2d-3           [-1, 64, 64, 64]          36,864\n",
            "       BatchNorm2d-4           [-1, 64, 64, 64]             128\n",
            "            Conv2d-5           [-1, 64, 64, 64]          36,864\n",
            "       BatchNorm2d-6           [-1, 64, 64, 64]             128\n",
            "        BasicBlock-7           [-1, 64, 64, 64]               0\n",
            "            Conv2d-8           [-1, 64, 64, 64]          36,864\n",
            "       BatchNorm2d-9           [-1, 64, 64, 64]             128\n",
            "           Conv2d-10           [-1, 64, 64, 64]          36,864\n",
            "      BatchNorm2d-11           [-1, 64, 64, 64]             128\n",
            "       BasicBlock-12           [-1, 64, 64, 64]               0\n",
            "           Conv2d-13           [-1, 64, 64, 64]          36,864\n",
            "      BatchNorm2d-14           [-1, 64, 64, 64]             128\n",
            "           Conv2d-15           [-1, 64, 64, 64]          36,864\n",
            "      BatchNorm2d-16           [-1, 64, 64, 64]             128\n",
            "       BasicBlock-17           [-1, 64, 64, 64]               0\n",
            "           Conv2d-18           [-1, 64, 64, 64]          36,864\n",
            "      BatchNorm2d-19           [-1, 64, 64, 64]             128\n",
            "           Conv2d-20           [-1, 64, 64, 64]          36,864\n",
            "      BatchNorm2d-21           [-1, 64, 64, 64]             128\n",
            "       BasicBlock-22           [-1, 64, 64, 64]               0\n",
            "           Conv2d-23          [-1, 128, 32, 32]          73,728\n",
            "      BatchNorm2d-24          [-1, 128, 32, 32]             256\n",
            "           Conv2d-25          [-1, 128, 32, 32]         147,456\n",
            "      BatchNorm2d-26          [-1, 128, 32, 32]             256\n",
            "           Conv2d-27          [-1, 128, 32, 32]           8,192\n",
            "      BatchNorm2d-28          [-1, 128, 32, 32]             256\n",
            "       BasicBlock-29          [-1, 128, 32, 32]               0\n",
            "           Conv2d-30          [-1, 128, 32, 32]         147,456\n",
            "      BatchNorm2d-31          [-1, 128, 32, 32]             256\n",
            "           Conv2d-32          [-1, 128, 32, 32]         147,456\n",
            "      BatchNorm2d-33          [-1, 128, 32, 32]             256\n",
            "       BasicBlock-34          [-1, 128, 32, 32]               0\n",
            "           Conv2d-35          [-1, 128, 32, 32]         147,456\n",
            "      BatchNorm2d-36          [-1, 128, 32, 32]             256\n",
            "           Conv2d-37          [-1, 128, 32, 32]         147,456\n",
            "      BatchNorm2d-38          [-1, 128, 32, 32]             256\n",
            "       BasicBlock-39          [-1, 128, 32, 32]               0\n",
            "           Conv2d-40          [-1, 128, 32, 32]         147,456\n",
            "      BatchNorm2d-41          [-1, 128, 32, 32]             256\n",
            "           Conv2d-42          [-1, 128, 32, 32]         147,456\n",
            "      BatchNorm2d-43          [-1, 128, 32, 32]             256\n",
            "       BasicBlock-44          [-1, 128, 32, 32]               0\n",
            "           Conv2d-45          [-1, 256, 16, 16]         294,912\n",
            "      BatchNorm2d-46          [-1, 256, 16, 16]             512\n",
            "           Conv2d-47          [-1, 256, 16, 16]         589,824\n",
            "      BatchNorm2d-48          [-1, 256, 16, 16]             512\n",
            "           Conv2d-49          [-1, 256, 16, 16]          32,768\n",
            "      BatchNorm2d-50          [-1, 256, 16, 16]             512\n",
            "       BasicBlock-51          [-1, 256, 16, 16]               0\n",
            "           Conv2d-52          [-1, 256, 16, 16]         589,824\n",
            "      BatchNorm2d-53          [-1, 256, 16, 16]             512\n",
            "           Conv2d-54          [-1, 256, 16, 16]         589,824\n",
            "      BatchNorm2d-55          [-1, 256, 16, 16]             512\n",
            "       BasicBlock-56          [-1, 256, 16, 16]               0\n",
            "           Conv2d-57          [-1, 256, 16, 16]         589,824\n",
            "      BatchNorm2d-58          [-1, 256, 16, 16]             512\n",
            "           Conv2d-59          [-1, 256, 16, 16]         589,824\n",
            "      BatchNorm2d-60          [-1, 256, 16, 16]             512\n",
            "       BasicBlock-61          [-1, 256, 16, 16]               0\n",
            "           Linear-62                    [-1, 2]           2,050\n",
            "================================================================\n",
            "Total params: 4,696,642\n",
            "Trainable params: 4,696,642\n",
            "Non-trainable params: 0\n",
            "----------------------------------------------------------------\n",
            "Input size (MB): 0.05\n",
            "Forward/backward pass size (MB): 74.50\n",
            "Params size (MB): 17.92\n",
            "Estimated Total Size (MB): 92.46\n",
            "----------------------------------------------------------------\n"
          ]
        }
      ],
      "source": [
        "# model summary to see number of trainable parameters\n",
        "summary(net, (3,64,64))"
      ]
    },
    {
      "cell_type": "code",
      "execution_count": null,
      "metadata": {
        "id": "AolhTxSzlAkH"
      },
      "outputs": [],
      "source": [
        "def train():\n",
        "  \"\"\"Training loop\n",
        "  \"\"\"\n",
        "  train_acc = []\n",
        "  train_loss = 0.0\n",
        "  correct = 0\n",
        "  total = 0\n",
        "\n",
        "  net.train()\n",
        "  for i, (images, labels) in enumerate(train_loader):\n",
        "    images, labels = images.to(device), labels.to(device)\n",
        "    \n",
        "    optimizer.zero_grad()\n",
        "    outputs = net(images)\n",
        "    fit = criterion(outputs, labels)\n",
        "    fit.backward()\n",
        "    nn.utils.clip_grad_value_(net.parameters(), clip_value=0.1)\n",
        "    optimizer.step()\n",
        "    train_loss += fit.item()\n",
        "    \n",
        "    # accuracy\n",
        "    _, pred = outputs.max(1)\n",
        "    total += labels.size(0)\n",
        "    correct += (pred == labels).sum()\n",
        "\n",
        "    torch.cuda.empty_cache()\n",
        "    gc.collect()\n",
        "\n",
        "  loss = train_loss / len(train_loader)\n",
        "  acc = float(correct)/float(total)\n",
        "\n",
        "  print(f'Training loss: {loss}, Training acc: {acc}')\n",
        "\n",
        "  return loss\n",
        "\n",
        "def validate():\n",
        "  \"\"\"Validation loop\n",
        "  \"\"\"\n",
        "  global best_loss\n",
        "  val_acc = []\n",
        "  val_loss = 0.0\n",
        "  correct = 0\n",
        "  total = 0\n",
        "\n",
        "  net.eval()\n",
        "  torch.cuda.empty_cache()\n",
        "  gc.collect()\n",
        "  for i, (images, labels) in enumerate(val_loader):\n",
        "    images, labels = images.to(device), labels.to(device)\n",
        "\n",
        "    outputs = net(images)\n",
        "    fit = criterion(outputs, labels)\n",
        "    val_loss += fit.item()\n",
        "\n",
        "    # accuracy\n",
        "    _, pred = outputs.max(1)\n",
        "    total += labels.size(0)\n",
        "    correct += (pred == labels).sum()\n",
        "\n",
        "    torch.cuda.empty_cache()\n",
        "    gc.collect()\n",
        "\n",
        "  loss = val_loss / len(val_loader)\n",
        "  acc = float(correct)/float(total)\n",
        "\n",
        "  print(f'Validation loss: {loss}, Validation acc: {acc}')\n",
        "\n",
        "  return loss"
      ]
    },
    {
      "cell_type": "code",
      "execution_count": null,
      "metadata": {
        "colab": {
          "base_uri": "https://localhost:8080/"
        },
        "id": "QQr1_nX0DSvb",
        "outputId": "ca0cefad-e9e3-4500-ebd0-041d9316255b"
      },
      "outputs": [
        {
          "name": "stdout",
          "output_type": "stream",
          "text": [
            "Epoch 0:\n",
            "Training loss: 0.21152889943122863, Training acc: 0.915\n",
            "Validation loss: 0.318841646425426, Validation acc: 0.858\n",
            "**********\n",
            "Epoch 1:\n",
            "Training loss: 0.09063916289806366, Training acc: 0.96575\n",
            "Validation loss: 0.2632049878593534, Validation acc: 0.908\n",
            "**********\n",
            "Epoch 2:\n",
            "Training loss: 0.06467093305662275, Training acc: 0.975625\n",
            "Validation loss: 0.07327205740148202, Validation acc: 0.977\n",
            "**********\n",
            "Epoch 3:\n",
            "Training loss: 0.02442814170080237, Training acc: 0.99\n",
            "Validation loss: 0.035467729467200115, Validation acc: 0.988\n",
            "**********\n",
            "Epoch 4:\n",
            "Training loss: 0.030167194199282675, Training acc: 0.988125\n",
            "Validation loss: 0.026945229910779744, Validation acc: 0.989\n",
            "**********\n"
          ]
        }
      ],
      "source": [
        "# driver cell to run train and validation methods\n",
        "epochs = 5\n",
        "train_loss_history = []\n",
        "val_loss_history = []\n",
        "\n",
        "for epoch in range(epochs):\n",
        "  print(f'Epoch {epoch}:')\n",
        "  train_loss_history.append(train())\n",
        "  val_loss_history.append(validate())\n",
        "  # scheduler.step()\n",
        "  print(f'*'*10)"
      ]
    },
    {
      "cell_type": "code",
      "execution_count": null,
      "metadata": {
        "colab": {
          "base_uri": "https://localhost:8080/",
          "height": 279
        },
        "id": "iXKFIBT4DWCV",
        "outputId": "58fbeb94-9cf3-4d30-d43d-87ba18341521"
      },
      "outputs": [
        {
          "data": {
            "image/png": "[encoded data removed]",
            "text/plain": [
              "<Figure size 432x288 with 1 Axes>"
            ]
          },
          "metadata": {
            "needs_background": "light"
          },
          "output_type": "display_data"
        }
      ],
      "source": [
        "# train-val loss curves\n",
        "plt.plot(range(epochs), train_loss_history, '-', label=\"train\")\n",
        "plt.plot(range(epochs), val_loss_history, '-', label=\"validation\")\n",
        "plt.xlabel('Epoch')\n",
        "plt.ylabel('Loss')\n",
        "plt.grid(True)\n",
        "plt.legend()\n",
        "plt.savefig(\"resnet_colon.jpg\")"
      ]
    },
    {
      "cell_type": "code",
      "execution_count": null,
      "metadata": {
        "colab": {
          "base_uri": "https://localhost:8080/"
        },
        "id": "bH9vns164aoP",
        "outputId": "95442c5f-c11b-4b44-81b1-ff5f686f1056"
      },
      "outputs": [
        {
          "name": "stdout",
          "output_type": "stream",
          "text": [
            "Test accuracy: 0.985\n",
            "Test F1 score: 0.9818637868868537\n"
          ]
        }
      ],
      "source": [
        "# test accuracy\n",
        "correct = 0\n",
        "samples = 0\n",
        "f1 = []\n",
        "with torch.no_grad():\n",
        "  for i, (images, labels) in enumerate(test_loader):\n",
        "    images, labels = images.to(device), labels.to(device)\n",
        "\n",
        "    scores = net(images)\n",
        "    _, pred = scores.max(1)\n",
        "    f1.append(f1_score(labels.cpu(), pred.cpu()))\n",
        "    correct += (pred == labels).sum()\n",
        "    samples += pred.size(0)\n",
        "\n",
        "  acc = float(correct)/float(samples)\n",
        "  print(f'Test accuracy: {acc}')\n",
        "  print(f'Test F1 score: {sum(f1)/len(f1)}')"
      ]
    },
    {
      "cell_type": "code",
      "execution_count": null,
      "metadata": {
        "id": "6sEDLT8f-6xW"
      },
      "outputs": [],
      "source": []
    }
  ],
  "metadata": {
    "accelerator": "GPU",
    "colab": {
      "provenance": []
    },
    "gpuClass": "standard",
    "kernelspec": {
      "display_name": "Python 3",
      "language": "python",
      "name": "python3"
    },
    "language_info": {
      "name": "python",
      "version": "3.9.13 (main, May 24 2022, 21:13:51) \n[Clang 13.1.6 (clang-1316.0.21.2)]"
    },
    "vscode": {
      "interpreter": {
        "hash": "b0fa6594d8f4cbf19f97940f81e996739fb7646882a419484c72d19e05852a7e"
      }
    }
  },
  "nbformat": 4,
  "nbformat_minor": 0
}
